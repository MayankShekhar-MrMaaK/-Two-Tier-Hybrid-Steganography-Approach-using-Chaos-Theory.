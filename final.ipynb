{
 "cells": [
  {
   "cell_type": "code",
   "execution_count": null,
   "metadata": {
    "scrolled": true
   },
   "outputs": [],
   "source": [
    "a=input(\"Enter \\n0 for ENCODING\\n1 for DECODING\\n2 For COMPARING Orignal Image and Encrypted Image[on basis of Pixel Intensity Values] \\n\")\n",
    "if int(a)==0:\n",
    "    %run ./ENCODE.ipynb\n",
    "elif int(a)==1:\n",
    "    %run ./DECODE.ipynb\n",
    "elif int(a)==2:\n",
    "    %run ./COMPARISION.ipynb\n",
    "else:\n",
    "    print(\"WRONG INPUT\")"
   ]
  },
  {
   "cell_type": "code",
   "execution_count": null,
   "metadata": {},
   "outputs": [],
   "source": []
  }
 ],
 "metadata": {
  "kernelspec": {
   "display_name": "Python 3",
   "language": "python",
   "name": "python3"
  },
  "language_info": {
   "codemirror_mode": {
    "name": "ipython",
    "version": 3
   },
   "file_extension": ".py",
   "mimetype": "text/x-python",
   "name": "python",
   "nbconvert_exporter": "python",
   "pygments_lexer": "ipython3",
   "version": "3.7.3"
  }
 },
 "nbformat": 4,
 "nbformat_minor": 4
}
